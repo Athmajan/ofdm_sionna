{
 "cells": [
  {
   "cell_type": "code",
   "execution_count": 4,
   "id": "429a394e-5080-4db7-a7d2-d00597e40a83",
   "metadata": {},
   "outputs": [
    {
     "ename": "ModuleNotFoundError",
     "evalue": "No module named 'sionna.modulation'",
     "output_type": "error",
     "traceback": [
      "\u001b[0;31m---------------------------------------------------------------------------\u001b[0m",
      "\u001b[0;31mModuleNotFoundError\u001b[0m                       Traceback (most recent call last)",
      "Cell \u001b[0;32mIn[4], line 6\u001b[0m\n\u001b[1;32m      3\u001b[0m \u001b[38;5;28;01mfrom\u001b[39;00m\u001b[38;5;250m \u001b[39m\u001b[38;5;21;01msionna\u001b[39;00m\u001b[38;5;250m \u001b[39m\u001b[38;5;28;01mimport\u001b[39;00m utils\n\u001b[1;32m      4\u001b[0m \u001b[38;5;66;03m#from sionna.channel import AWGNChannel\u001b[39;00m\n\u001b[0;32m----> 6\u001b[0m \u001b[38;5;28;01mfrom\u001b[39;00m\u001b[38;5;250m \u001b[39m\u001b[38;5;21;01msionna\u001b[39;00m\u001b[38;5;21;01m.\u001b[39;00m\u001b[38;5;21;01mmodulation\u001b[39;00m\u001b[38;5;250m \u001b[39m\u001b[38;5;28;01mimport\u001b[39;00m QAM\n\u001b[1;32m      7\u001b[0m \u001b[38;5;28;01mfrom\u001b[39;00m\u001b[38;5;250m \u001b[39m\u001b[38;5;21;01msionna\u001b[39;00m\u001b[38;5;21;01m.\u001b[39;00m\u001b[38;5;21;01mofdm\u001b[39;00m\u001b[38;5;250m \u001b[39m\u001b[38;5;28;01mimport\u001b[39;00m OFDMModulator, OFDMDemodulator\n\u001b[1;32m      8\u001b[0m \u001b[38;5;28;01mfrom\u001b[39;00m\u001b[38;5;250m \u001b[39m\u001b[38;5;21;01msionna\u001b[39;00m\u001b[38;5;21;01m.\u001b[39;00m\u001b[38;5;21;01mtools\u001b[39;00m\u001b[38;5;250m \u001b[39m\u001b[38;5;28;01mimport\u001b[39;00m binary_source\n",
      "\u001b[0;31mModuleNotFoundError\u001b[0m: No module named 'sionna.modulation'"
     ]
    }
   ],
   "source": [
    "import torch\n",
    "import sionna\n",
    "from sionna import utils\n",
    "#from sionna.channel import AWGNChannel\n",
    "\n",
    "from sionna.modulation import QAM\n",
    "from sionna.ofdm import OFDMModulator, OFDMDemodulator\n",
    "from sionna.tools import binary_source\n",
    "\n",
    "# Parameters\n",
    "num_symbols = 1000      # Number of data symbols\n",
    "mod_order = 16          # Modulation order (QAM)\n",
    "snr_db = 20             # Signal to noise ratio in dB\n",
    "cyclic_prefix_length = 16  # Length of the cyclic prefix\n",
    "preamble_length = 1        # Length of preamble for timing synchronization\n",
    "\n",
    "# Generate random binary data source\n",
    "data = binary_source(num_symbols, mod_order)\n",
    "\n",
    "# QAM modulation of the data\n",
    "modulator = QAM(mod_order)\n",
    "modulated_data = modulator.modulate(data)\n",
    "\n",
    "# Create OFDM modulator\n",
    "ofdm_modulator = OFDMModulator(cyclic_prefix_length=cyclic_prefix_length)\n",
    "\n",
    "# Modulate the data into OFDM symbols\n",
    "ofdm_symbols = ofdm_modulator(modulated_data)\n",
    "\n",
    "# Add an AWGN channel\n",
    "channel = sn.channel.AWGN()\n",
    "received_signal = channel(ofdm_symbols)\n",
    "\n",
    "# Timing Synchronization (Correlation with known preamble)\n",
    "preamble = ofdm_symbols[:preamble_length]  # Simplified assumption: preamble is the first symbol\n",
    "correlation = torch.correlate(received_signal, preamble, mode='full')\n",
    "timing_offset = correlation.argmax()\n",
    "\n",
    "# Synchronized signal after timing correction\n",
    "synchronized_signal = received_signal[timing_offset:]\n",
    "\n",
    "# Frequency Synchronization (Using Pilot Tones)\n",
    "# Assume we add pilot tones (e.g., known QAM symbols) to the signal\n",
    "pilot_tones = synchronized_signal[::10]  # Pick every 10th symbol as pilot tones\n",
    "\n",
    "# Frequency offset simulation (e.g., Doppler shift)\n",
    "frequency_offset = 0.1\n",
    "received_pilots = pilot_tones * torch.exp(1j * 2 * torch.pi * frequency_offset * torch.arange(len(pilot_tones)))\n",
    "\n",
    "# Estimate frequency offset\n",
    "frequency_estimate = torch.angle(torch.mean(received_pilots * torch.conj(pilot_tones)))\n",
    "\n",
    "# Correct the frequency offset\n",
    "corrected_signal = synchronized_signal * torch.exp(-1j * frequency_estimate)\n",
    "\n",
    "# OFDM Demodulation\n",
    "ofdm_demodulator = OFDMDemodulator(cyclic_prefix_length=cyclic_prefix_length)\n",
    "demodulated_data = ofdm_demodulator(corrected_signal)\n",
    "\n",
    "# Display the synchronization results\n",
    "print(f\"Timing Offset: {timing_offset}\")\n",
    "print(f\"Estimated Frequency Offset: {frequency_estimate}\")\n"
   ]
  }
 ],
 "metadata": {
  "kernelspec": {
   "display_name": "sionna_march2025",
   "language": "python",
   "name": "sionna_env_conda_3_10"
  },
  "language_info": {
   "codemirror_mode": {
    "name": "ipython",
    "version": 3
   },
   "file_extension": ".py",
   "mimetype": "text/x-python",
   "name": "python",
   "nbconvert_exporter": "python",
   "pygments_lexer": "ipython3",
   "version": "3.10.16"
  }
 },
 "nbformat": 4,
 "nbformat_minor": 5
}
