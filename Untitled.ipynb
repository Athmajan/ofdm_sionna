{
 "cells": [
  {
   "cell_type": "code",
   "execution_count": 2,
   "id": "6d11c945-d102-4b1d-8726-6d6d2e69ac72",
   "metadata": {},
   "outputs": [
    {
     "name": "stdout",
     "output_type": "stream",
     "text": [
      "Euclidean Distance: 76.75\n"
     ]
    }
   ],
   "source": [
    "import math\n",
    "\n",
    "# Given points\n",
    "x1, y1 = -71.2015,18.8638\n",
    "x2, y2 = -23.4033,78.917\n",
    "\n",
    "# Compute Euclidean distance\n",
    "distance = math.sqrt((x2 - x1) ** 2 + (y2 - y1) ** 2)\n",
    "\n",
    "print(f\"Euclidean Distance: {distance:.2f}\")"
   ]
  }
 ],
 "metadata": {
  "kernelspec": {
   "display_name": "Python 3 (ipykernel)",
   "language": "python",
   "name": "python3"
  },
  "language_info": {
   "codemirror_mode": {
    "name": "ipython",
    "version": 3
   },
   "file_extension": ".py",
   "mimetype": "text/x-python",
   "name": "python",
   "nbconvert_exporter": "python",
   "pygments_lexer": "ipython3",
   "version": "3.10.5"
  }
 },
 "nbformat": 4,
 "nbformat_minor": 5
}
